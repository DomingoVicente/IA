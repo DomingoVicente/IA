{
 "cells": [
  {
   "cell_type": "markdown",
   "metadata": {},
   "source": [
    "```\n",
    "conda install -c conda-forge scikit-learn pandas\n",
    "```"
   ]
  },
  {
   "cell_type": "code",
   "execution_count": 19,
   "metadata": {},
   "outputs": [],
   "source": [
    "import numpy as np\n",
    "import matplotlib.pyplot as plt\n",
    "import pandas as pd\n",
    "import sklearn"
   ]
  },
  {
   "cell_type": "markdown",
   "metadata": {},
   "source": [
    "### Primera actividad de redes neuronales"
   ]
  },
  {
   "cell_type": "code",
   "execution_count": 20,
   "metadata": {},
   "outputs": [],
   "source": [
    "from sklearn.datasets import load_breast_cancer\n",
    "\n",
    "cancer = load_breast_cancer()\n",
    "X_data = cancer.data\n",
    "y_data = cancer.target"
   ]
  },
  {
   "cell_type": "markdown",
   "metadata": {},
   "source": [
    "(https://scikit-learn.org/stable/modules/generated/sklearn.datasets.load_breast_cancer.html#sklearn.datasets.load_breast_cancer)\n",
    "- En el siguiente bloque explore la data, con el fin de responder a estas preguntas.\n",
    "    - ¿De que se trata el dataset?\n",
    "    - ¿Cuales son las clases de salida?\n",
    "    - ¿A que corresponden las caracteristicas?\n",
    "    - ¿Cuantas caracteristicas y clases de salida hay?\n",
    "    - Etc."
   ]
  },
  {
   "cell_type": "markdown",
   "metadata": {},
   "source": [
    "El conjunto de datos de cáncer de mama de Wisconsin es un clásico conjunto de datos de clasificación binaria utilizado para diagnosticar tumores mamarios. Contiene características derivadas de imágenes digitales de muestras de tejido mamario y se utiliza para predecir si un tumor es maligno o benigno.\n",
    "\n",
    "Clases de salida:\n",
    "                0: Maligno (M)\n",
    "                1: Benigno (B)\n",
    "\n",
    "Caracteristicas:\n",
    "                radius (mean of distances from center to points on the perimeter)\n",
    "                texture (standard deviation of gray-scale values)\n",
    "                perimeter\n",
    "                area\n",
    "                smoothness (local variation in radius lengths)\n",
    "                compactness (perimeter^2 / area - 1.0)\n",
    "                concavity (severity of concave portions of the contour)\n",
    "                concave points (number of concave portions of the contour)\n",
    "                symmetry\n",
    "                fractal dimension (\"coastline approximation\" - 1)\n",
    "                mean radius\n",
    "                mean texture\n",
    "                mean perimeter\n",
    "                mean area\n",
    "                mean smoothness\n",
    "                mean compactness\n",
    "                mean concavity\n",
    "                mean concave points\n",
    "                mean symmetry\n",
    "                mean fractal dimension\n",
    "                radius error\n",
    "                texture error\n",
    "                perimeter error\n",
    "                area error\n",
    "                smoothness error\n",
    "                compactness error\n",
    "                concavity error\n",
    "                concave points error\n",
    "                symmetry error\n",
    "                fractal dimension error\n",
    "\n",
    "Son 30 caracteristicas y 2 clases de salida, benigdo-maligno"
   ]
  },
  {
   "cell_type": "code",
   "execution_count": 21,
   "metadata": {},
   "outputs": [],
   "source": [
    "import torch\n",
    "from torch.utils.data import random_split,DataLoader,TensorDataset\n",
    "\n",
    "X = torch.tensor(X_data, dtype=torch.float32)\n",
    "Y = torch.tensor(y_data,dtype=torch.long)\n",
    "\n",
    "dataset = TensorDataset(X,Y)\n",
    "\n",
    "train_set, valid_set,test_set = random_split(dataset,[342,113,114],generator=torch.Generator().manual_seed(1234)) ##No cambiar la semilla\n",
    "train_loader = DataLoader(train_set, shuffle=True, batch_size=32)\n",
    "valid_loader = DataLoader(valid_set, shuffle=False, batch_size=128)\n",
    "test_loader = DataLoader(test_set, shuffle=False, batch_size=128)"
   ]
  },
  {
   "cell_type": "markdown",
   "metadata": {},
   "source": [
    "## Implentación de la Red Neuronal\n",
    "- En el siguiente bloque implemente el modelo que utilizará su red neuronal para predecir si un paciente tiene cáncer o no, teniendo en cuenta sus caracteristicas."
   ]
  },
  {
   "cell_type": "code",
   "execution_count": 30,
   "metadata": {},
   "outputs": [],
   "source": [
    "import torch.nn as nn\n",
    "import torch.optim as optim\n",
    "\n",
    "# Definir el modelo de la red neuronal\n",
    "class CancerNet(nn.Module):\n",
    "    def __init__(self):\n",
    "        super(CancerNet, self).__init__()\n",
    "        self.fc1 = nn.Linear(30, 15)\n",
    "        self.fc2 = nn.Linear(15, 2)  # 2 salidas para clasificación binaria\n",
    "        self.relu = nn.ReLU()\n",
    "\n",
    "    def forward(self, x):\n",
    "        x = self.relu(self.fc1(x))\n",
    "        x = self.fc2(x)\n",
    "        return x\n",
    "    "
   ]
  },
  {
   "cell_type": "markdown",
   "metadata": {},
   "source": [
    "- En el siguiente bloque cree una instancia de su red neuronal definida anteriormente y defina una función de pérdida y optimizador adecuados:"
   ]
  },
  {
   "cell_type": "code",
   "execution_count": 31,
   "metadata": {},
   "outputs": [],
   "source": [
    "# Crear una instancia del modelo\n",
    "model = CancerNet()\n",
    "\n",
    "# Definir la función de pérdida y el optimizador\n",
    "criterion = nn.CrossEntropyLoss()\n",
    "optimizer = optim.Adam(model.parameters(), lr=0.001)"
   ]
  },
  {
   "cell_type": "markdown",
   "metadata": {},
   "source": [
    "Parametros Optimizador Adam:\n",
    "\n",
    "- lr: Es la tasa de aprendizaje. \n",
    "- momentum: Podemos utilizar un valor mayor que cero para evitar estancamiento en mínimos locales\n",
    "- weight_decay: Podemos utilizar un valor mayor que cero para evitar sobreajuste"
   ]
  },
  {
   "cell_type": "markdown",
   "metadata": {},
   "source": [
    "- Responda: \n",
    "    - ¿Porqué eligió esa función de pérdida?\n",
    "        - CroosEntropyLoss es una de las funciones mas utilizadas para clasificacion con C clases\n",
    "    - Elija 2 optimizadores populares y describalos, luego explique porqué elige uno de los 2.\n",
    "        - En el cuadernillo se menciona que los mas populares son Adam (gradiente descendente con tasa de aprendizaje) y SGD (gradiente descendente estotastico)\n",
    "            Se va a trabajar con el optimizador Adam debido a su capacidad de manejar la taza de aprendizaje."
   ]
  },
  {
   "cell_type": "markdown",
   "metadata": {},
   "source": [
    "- En el siguiente bloque programe el entrenamiento de su red neuronal"
   ]
  },
  {
   "cell_type": "code",
   "execution_count": 42,
   "metadata": {},
   "outputs": [],
   "source": [
    "from sklearn.model_selection import train_test_split\n",
    "from sklearn.preprocessing import StandardScaler\n",
    "\n",
    "# Dividir los datos en conjuntos de entrenamiento y prueba\n",
    "X_train, X_test, y_train, y_test = train_test_split(X_data, y_data, test_size=0.2, random_state=42)\n",
    "\n",
    "# Estandarizar las características\n",
    "scaler = StandardScaler()\n",
    "X_train = scaler.fit_transform(X_train)\n",
    "X_test = scaler.transform(X_test)\n",
    "\n",
    "# Convertir los datos a tensores de PyTorch\n",
    "X_train_tensor = torch.tensor(X_train, dtype=torch.float32)\n",
    "y_train_tensor = torch.tensor(y_train, dtype=torch.long)\n",
    "X_test_tensor = torch.tensor(X_test, dtype=torch.float32)\n",
    "y_test_tensor = torch.tensor(y_test, dtype=torch.long)\n",
    "\n",
    "# Crear DataLoader para el conjunto de entrenamiento\n",
    "train_dataset = TensorDataset(X_train_tensor, y_train_tensor)\n",
    "train_loader = DataLoader(train_dataset, batch_size=10, shuffle=True)"
   ]
  },
  {
   "cell_type": "code",
   "execution_count": 41,
   "metadata": {},
   "outputs": [
    {
     "name": "stdout",
     "output_type": "stream",
     "text": [
      "Epoch [10/50], Loss: 0.0006\n",
      "Epoch [20/50], Loss: 0.0005\n",
      "Epoch [30/50], Loss: 0.0004\n",
      "Epoch [40/50], Loss: 0.0003\n",
      "Epoch [50/50], Loss: 0.0002\n"
     ]
    }
   ],
   "source": [
    "def train_model(model, criterion, optimizer, train_loader, num_epochs=50):\n",
    "    for epoch in range(num_epochs):  # Número de épocas\n",
    "        model.train()  # Modo entrenamiento\n",
    "        running_loss = 0.0\n",
    "        for inputs, labels in train_loader:\n",
    "            optimizer.zero_grad()\n",
    "            outputs = model(inputs)\n",
    "            loss = criterion(outputs, labels)\n",
    "            loss.backward()\n",
    "            optimizer.step()\n",
    "            running_loss += loss.item() * inputs.size(0)\n",
    "        \n",
    "        \n",
    "        epoch_loss = running_loss / len(train_loader.dataset)\n",
    "        if (epoch + 1) % 10 == 0:\n",
    "            print(f'Epoch [{epoch+1}/{num_epochs}], Loss: {epoch_loss:.4f}')\n",
    "\n",
    "# Llamar a la función de entrenamiento\n",
    "train_model(model, criterion, optimizer, train_loader)"
   ]
  },
  {
   "cell_type": "markdown",
   "metadata": {},
   "source": [
    "- En el sigueinte bloque muestre el gráfico de entrenamiento y validación.\n",
    "- ¿El entrenamiento de su red neuronal está \"listo\"?"
   ]
  },
  {
   "cell_type": "markdown",
   "metadata": {},
   "source": [
    "- En el siguiente bloque evalue que tan bueno es su modelo mediante diferentes métricas"
   ]
  },
  {
   "cell_type": "code",
   "execution_count": 47,
   "metadata": {},
   "outputs": [
    {
     "name": "stdout",
     "output_type": "stream",
     "text": [
      "Precisión en el conjunto de prueba: 0.9737\n"
     ]
    }
   ],
   "source": [
    "# Evaluar el modelo en el conjunto de prueba\n",
    "def evaluate_model(model, X_test_tensor, y_test_tensor):\n",
    "    model.eval()  # Modo evaluación\n",
    "    with torch.no_grad():\n",
    "        outputs = model(X_test_tensor)\n",
    "        _, predicted = torch.max(outputs, 1)\n",
    "        accuracy = (predicted == y_test_tensor).sum().item() / len(y_test_tensor)\n",
    "        print(f'Precisión en el conjunto de prueba: {accuracy:.4f}')\n",
    "\n",
    "# Convertir el modelo y datos de prueba a CUDA si está disponible\n",
    "device = torch.device(\"cuda\" if torch.cuda.is_available() else \"cpu\")\n",
    "model.to(device)\n",
    "X_test_tensor = X_test_tensor.to(device)\n",
    "y_test_tensor = y_test_tensor.to(device)\n",
    "\n",
    "# Evaluar el modelo\n",
    "evaluate_model(model, X_test_tensor, y_test_tensor)\n"
   ]
  },
  {
   "cell_type": "code",
   "execution_count": 48,
   "metadata": {},
   "outputs": [
    {
     "data": {
      "image/png": "[encoded data removed]",
      "text/plain": [
       "<Figure size 640x480 with 2 Axes>"
      ]
     },
     "metadata": {},
     "output_type": "display_data"
    }
   ],
   "source": [
    "from sklearn.metrics import confusion_matrix, ConfusionMatrixDisplay\n",
    "\n",
    "# Hacer predicciones con el modelo entrenado\n",
    "model.eval()  # Modo evaluación\n",
    "with torch.no_grad():\n",
    "    y_pred_tensor = model(X_test_tensor)\n",
    "    y_pred = torch.argmax(y_pred_tensor, dim=1).numpy()\n",
    "\n",
    "# Generar la matriz de confusión\n",
    "cm = confusion_matrix(y_test, y_pred)\n",
    "\n",
    "# Mostrar la matriz de confusión\n",
    "disp = ConfusionMatrixDisplay(confusion_matrix=cm, display_labels=[0, 1])\n",
    "disp.plot(cmap=plt.cm.Blues)\n",
    "plt.show()"
   ]
  },
  {
   "cell_type": "markdown",
   "metadata": {},
   "source": [
    "- Concluya sobre su trabajo.  \n",
    "- Responda\n",
    "    - ¿Qué tan confiable sería su modelo en un entorno clínico? \n",
    "        Habria que analizar el proceso clinico que se esta tratando, tiene 1 error en cada clase \n",
    "    - ¿Qué haría para mejorarlo?\n",
    "        - Recoger datos más diversos y extensos para entrenar el modelo\n",
    "        - ajuste de hiperparámetros, ingeniería de características o usar diferentes arquitecturas de modelos.\n",
    "    - Sobre la matriz de confusión, ¿Alguno de sus elementos son más importantes que otros en este caso?\n",
    "    Falsos Negativos (FN): Podrían significar un diagnóstico perdido, lo que podría retrasar el tratamiento y empeorar los resultados para el paciente. En muchos escenarios clínicos, minimizar los FN es crucial.\n",
    "    Falsos Positivos (FP): Podrían llevar a pruebas o tratamientos adicionales innecesarios, causando ansiedad, costos aumentados y posibles efectos secundarios.\n",
    "    ¿Que significaría el aumento de FN o FP en este caso? \n",
    "    Aumento en FN: Más pacientes con la condición podrían no ser diagnosticados, lo que podría llevar a serias consecuencias para la salud.\n",
    "    Aumento en FP: Más pacientes sin la condición podrían someterse a pruebas o tratamientos adicionales innecesarios, lo que puede llevar a angustia psicológica y gastos médicos innecesarios.\n",
    "- Investigue sobre alguna arquitectura de red neuronal distinta a la utilizada en este trabajo, describala y explique en que casos sería útil.\n",
    "\n"
   ]
  },
  {
   "cell_type": "markdown",
   "metadata": {},
   "source": [
    "### Pregunta Bonus\n",
    "- ¿Cúal es la principal limitación de las redes neuronales comparado al cerebro humano?"
   ]
  },
  {
   "cell_type": "markdown",
   "metadata": {},
   "source": [
    "Puede ser la comprension sentimental respecto a los resultados, el caso de estudio es un tema delicado para la vida personal de cada persona, debe tratarse con cuidado y respeto"
   ]
  }
 ],
 "metadata": {
  "kernelspec": {
   "display_name": "transformer",
   "language": "python",
   "name": "python3"
  },
  "language_info": {
   "codemirror_mode": {
    "name": "ipython",
    "version": 3
   },
   "file_extension": ".py",
   "mimetype": "text/x-python",
   "name": "python",
   "nbconvert_exporter": "python",
   "pygments_lexer": "ipython3",
   "version": "3.12.4"
  }
 },
 "nbformat": 4,
 "nbformat_minor": 2
}
